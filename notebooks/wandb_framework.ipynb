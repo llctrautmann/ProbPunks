{
 "cells": [
  {
   "cell_type": "code",
   "execution_count": null,
   "metadata": {},
   "outputs": [],
   "source": [
    "class WandBMonitor():\n",
    "    \"\"\"\n",
    "    A W&B class to save images to WandB.\n",
    "    \"\"\"\n",
    "    \n",
    "    def __init__(self, n_images=1):\n",
    "        self.n_images = n_images\n",
    "        \n",
    "    def get_wandb_image(self, images):\n",
    "        images = (images * 127.5 + 127.5)\n",
    "        images = wandb.Image(images)\n",
    "        return images\n",
    "        \n",
    "    \n",
    "    def on_epoch_end(self, epoch, logs):\n",
    "        # Real to Monet Generated Images\n",
    "        for i, image in enumerate(photo_ds_eval.take(self.n_images)):\n",
    "            monet_pred = monet_generator.predict(image)\n",
    "            monet_wandb = self.get_wandb_image(monet_pred)\n",
    "        \n",
    "        # Monet to Real Generated Images\n",
    "        for i, image in enumerate(monet_ds_eval.take(self.n_images)):\n",
    "            real_pred = photo_generator.predict(image)\n",
    "            real_wandb = self.get_wandb_image(real_pred)\n",
    "            \n",
    "        # Log losses\n",
    "        wandb.log({\n",
    "            \"real_to_monet\": monet_wandb,\n",
    "            \"monet_to_real\": real_wandb,\n",
    "            \"monet_gen_loss\": tf.reduce_mean(logs[\"monet_gen_loss\"]),\n",
    "            \"photo_gen_loss\": tf.reduce_mean(logs[\"photo_gen_loss\"]),\n",
    "            \"monet_disc_loss\": tf.reduce_mean(logs[\"monet_disc_loss\"]),\n",
    "            \"photo_disc_loss\": tf.reduce_mean(logs[\"photo_disc_loss\"]),\n",
    "        }, step=epoch)"
   ]
  }
 ],
 "metadata": {
  "kernelspec": {
   "display_name": "vae",
   "language": "python",
   "name": "python3"
  },
  "language_info": {
   "codemirror_mode": {
    "name": "ipython",
    "version": 3
   },
   "file_extension": ".py",
   "mimetype": "text/x-python",
   "name": "python",
   "nbconvert_exporter": "python",
   "pygments_lexer": "ipython3",
   "version": "3.10.13"
  }
 },
 "nbformat": 4,
 "nbformat_minor": 2
}
