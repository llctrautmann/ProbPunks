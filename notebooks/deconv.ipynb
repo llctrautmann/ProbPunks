{
 "cells": [
  {
   "cell_type": "code",
   "execution_count": 2,
   "metadata": {},
   "outputs": [],
   "source": [
    "import torch\n",
    "import torch.nn as nn\n",
    "import torch.nn.functional as F\n",
    "import torch.optim as optim\n",
    "import torchvision\n",
    "import torchvision.transforms as transforms\n",
    "import matplotlib.pyplot as plt\n",
    "import numpy as np"
   ]
  },
  {
   "cell_type": "code",
   "execution_count": 32,
   "metadata": {},
   "outputs": [],
   "source": [
    "# Deconvolutional block\n",
    "\n",
    "def deconv_block(in_channels, out_channels, kernel_size, stride,padding=1):\n",
    "    output_padding = 1 if stride == 2 else 0\n",
    "    return nn.Sequential(\n",
    "        nn.ConvTranspose2d(in_channels, out_channels, kernel_size, stride, padding, output_padding),\n",
    "        nn.BatchNorm2d(out_channels),\n",
    "        nn.LeakyReLU(0.02) if out_channels != 3 else nn.Sigmoid()\n",
    "\n",
    "    )\n",
    "\n",
    "def conv_block(in_channels, out_channels, kernel_size, stride, padding):\n",
    "    return nn.Sequential(\n",
    "        nn.Conv2d(in_channels, out_channels, kernel_size, stride, padding),\n",
    "        nn.MaxPool2d(2, 2) if out_channels < 512 else nn.Identity(),\n",
    "        nn.BatchNorm2d(out_channels),\n",
    "        nn.LeakyReLU(0.02)\n",
    "    )"
   ]
  },
  {
   "cell_type": "code",
   "execution_count": 33,
   "metadata": {},
   "outputs": [
    {
     "name": "stdout",
     "output_type": "stream",
     "text": [
      "torch.Size([1, 32, 64, 64])\n",
      "torch.Size([1, 64, 32, 32])\n",
      "torch.Size([1, 128, 16, 16])\n",
      "torch.Size([1, 256, 8, 8])\n",
      "torch.Size([1, 512, 8, 8])\n",
      "torch.Size([1, 1024, 8, 8])\n",
      "torch.Size([1, 2048, 8, 8])\n",
      "torch.Size([1, 1024, 8, 8])\n",
      "torch.Size([1, 512, 8, 8])\n"
     ]
    }
   ],
   "source": [
    "random_noise = torch.randn(1, 3, 128, 128)\n",
    "\n",
    "block = conv_block(in_channels=3, out_channels=32, kernel_size=(5,5), stride=1, padding=2)\n",
    "output = block(random_noise)\n",
    "print(output.shape)\n",
    "\n",
    "block = conv_block(in_channels=32, out_channels=64, kernel_size=(5,5), stride=1, padding=2)\n",
    "output = block(output)\n",
    "print(output.shape)\n",
    "\n",
    "block = conv_block(in_channels=64, out_channels=128, kernel_size=(5,5), stride=1, padding=2)\n",
    "output = block(output)\n",
    "print(output.shape)\n",
    "\n",
    "block = conv_block(in_channels=128, out_channels=256, kernel_size=(5,5), stride=1, padding=2)\n",
    "output = block(output)\n",
    "print(output.shape)\n",
    "\n",
    "block = conv_block(in_channels=256, out_channels=512, kernel_size=(5,5), stride=1, padding=2)\n",
    "output = block(output)\n",
    "print(output.shape)\n",
    "\n",
    "block = conv_block(in_channels=512, out_channels=1024, kernel_size=(5,5), stride=1, padding=2)\n",
    "output = block(output)\n",
    "print(output.shape)\n",
    "\n",
    "block = conv_block(in_channels=1024, out_channels=2048, kernel_size=(5,5), stride=1, padding=2)\n",
    "output = block(output)\n",
    "print(output.shape)\n",
    "\n",
    "block = deconv_block(in_channels=2048, out_channels=1024, kernel_size=(5,5), stride=1, padding=2)\n",
    "output = block(output)\n",
    "print(output.shape)\n",
    "\n",
    "block = deconv_block(in_channels=1024, out_channels=512, kernel_size=(5,5), stride=1, padding=2)\n",
    "output = block(output)\n",
    "print(output.shape)\n"
   ]
  },
  {
   "cell_type": "code",
   "execution_count": 34,
   "metadata": {},
   "outputs": [
    {
     "name": "stdout",
     "output_type": "stream",
     "text": [
      "torch.Size([32, 1024, 8, 8])\n",
      "torch.Size([32, 2048, 8, 8])\n",
      "torch.Size([32, 1024, 8, 8])\n",
      "torch.Size([32, 512, 8, 8])\n",
      "torch.Size([32, 256, 8, 8])\n",
      "torch.Size([32, 128, 16, 16])\n",
      "torch.Size([32, 64, 32, 32])\n",
      "torch.Size([32, 3, 64, 64])\n",
      "torch.Size([32, 3, 128, 128])\n"
     ]
    }
   ],
   "source": [
    "random_noise = torch.randn(32, 512, 8, 8)\n",
    "\n",
    "block = deconv_block(512, 1024, (5,5), stride=1, padding=2)\n",
    "output = block(random_noise)\n",
    "print(output.shape)\n",
    "\n",
    "block = deconv_block(1024, 2048, (5,5), stride=1, padding=2)\n",
    "output = block(output)\n",
    "print(output.shape)\n",
    "\n",
    "block = deconv_block(2048, 1024, (5,5), stride=1, padding=2)\n",
    "output = block(output)\n",
    "print(output.shape)\n",
    "\n",
    "block = deconv_block(1024, 512, (5,5), stride=1, padding=2)\n",
    "output = block(output)\n",
    "print(output.shape)\n",
    "\n",
    "block = deconv_block(512, 256, (5,5), stride=1, padding=2)\n",
    "output = block(output)\n",
    "print(output.shape)\n",
    "\n",
    "block_2 = deconv_block(256, 128, (5,5), stride=2, padding=2)\n",
    "\n",
    "output_2 = block_2(output)\n",
    "\n",
    "print(output_2.shape)\n",
    "\n",
    "block_3 = deconv_block(128, 64, (5,5), stride=2, padding=2)\n",
    "\n",
    "output_3 = block_3(output_2)\n",
    "\n",
    "print(output_3.shape)\n",
    "\n",
    "block_4 = deconv_block(64, 3, (5,5), stride=2, padding=2)\n",
    "\n",
    "output_4 = block_4(output_3)\n",
    "\n",
    "print(output_4.shape)\n",
    "\n",
    "block_5 = deconv_block(3, 3, (5,5), stride=2, padding=2)\n",
    "\n",
    "output_5 = block_5(output_4)\n",
    "\n",
    "print(output_5.shape)"
   ]
  },
  {
   "cell_type": "code",
   "execution_count": 11,
   "metadata": {},
   "outputs": [
    {
     "name": "stdout",
     "output_type": "stream",
     "text": [
      "torch.Size([32, 512, 8, 8])\n"
     ]
    }
   ],
   "source": [
    "random_noise = torch.randn(32, 512, 8, 8)\n",
    "block = deconv_block(512, 512, (5,5), stride=1, padding=2)\n",
    "\n",
    "output = block(random_noise)\n",
    "print(output.shape)\n",
    "\n"
   ]
  },
  {
   "cell_type": "code",
   "execution_count": 36,
   "metadata": {},
   "outputs": [
    {
     "data": {
      "text/plain": [
       "156.25"
      ]
     },
     "execution_count": 36,
     "metadata": {},
     "output_type": "execute_result"
    }
   ],
   "source": [
    "10000 / 64"
   ]
  },
  {
   "cell_type": "code",
   "execution_count": null,
   "metadata": {},
   "outputs": [],
   "source": []
  }
 ],
 "metadata": {
  "kernelspec": {
   "display_name": "vae",
   "language": "python",
   "name": "python3"
  },
  "language_info": {
   "codemirror_mode": {
    "name": "ipython",
    "version": 3
   },
   "file_extension": ".py",
   "mimetype": "text/x-python",
   "name": "python",
   "nbconvert_exporter": "python",
   "pygments_lexer": "ipython3",
   "version": "3.10.13"
  }
 },
 "nbformat": 4,
 "nbformat_minor": 2
}
